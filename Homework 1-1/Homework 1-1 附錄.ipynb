{
 "cells": [
  {
   "cell_type": "code",
   "execution_count": 1,
   "id": "23b6c3ab-7261-47b8-a2ee-aa74edaf9180",
   "metadata": {},
   "outputs": [],
   "source": [
    "import numpy as np\n",
    "import pandas as pd\n",
    "import scipy.stats as ss\n",
    "import matplotlib.pyplot as plt"
   ]
  },
  {
   "cell_type": "markdown",
   "id": "b40a13cf-aa7c-406a-bff4-20e685114349",
   "metadata": {
    "tags": []
   },
   "source": [
    "# 第一題"
   ]
  },
  {
   "cell_type": "markdown",
   "id": "598418ef-e204-4123-8304-17c22da9f64e",
   "metadata": {
    "tags": []
   },
   "source": [
    "## 第A小題"
   ]
  },
  {
   "cell_type": "markdown",
   "id": "fa69be33-d75d-4142-acad-925c6cfe64c6",
   "metadata": {},
   "source": [
    "$P(78\\leq s \\leq 101 | p=0.568)=\\displaystyle\\sum_{i=78}^{101}{N \\choose i} 0.568^i(1-0.568)^{n-i}$\n",
    "\n",
    "$P(78\\leq s \\leq 101 | p=0.628)=\\displaystyle\\sum_{i=78}^{101}{N \\choose i} 0.628^i(1-0.628)^{n-i}$"
   ]
  },
  {
   "cell_type": "code",
   "execution_count": 2,
   "id": "72f377c1-b76d-41db-888d-97643e529c53",
   "metadata": {},
   "outputs": [
    {
     "name": "stdout",
     "output_type": "stream",
     "text": [
      "0.8942340977568481\n",
      "0.8893559102960302\n"
     ]
    }
   ],
   "source": [
    "print(ss.binom.cdf(101, 150, 0.568) - ss.binom.cdf(77, 150, 0.568))\n",
    "print(ss.binom.cdf(101, 150, 0.628) - ss.binom.cdf(77, 150, 0.628))"
   ]
  },
  {
   "cell_type": "markdown",
   "id": "66ac7f4d-1fb0-4ba3-99d4-15bd278bd400",
   "metadata": {
    "tags": []
   },
   "source": [
    "## 第C小題"
   ]
  },
  {
   "cell_type": "markdown",
   "id": "d73223f6-9c66-49a9-a3ed-d43995b96110",
   "metadata": {},
   "source": [
    "$P(633\\leq s \\leq 697 | p=0.568)=\\displaystyle\\sum_{i=633}^{697}{N \\choose i} 0.568^i(1-0.568)^{n-i}$\n",
    "\n",
    "$P(633\\leq s \\leq 697 | p=0.628)=\\displaystyle\\sum_{i=633}^{697}{N \\choose i} 0.628^i(1-0.628)^{n-i}$"
   ]
  },
  {
   "cell_type": "code",
   "execution_count": 3,
   "id": "df0f71f1-7285-4625-afe0-40ad9b3e971f",
   "metadata": {},
   "outputs": [
    {
     "name": "stdout",
     "output_type": "stream",
     "text": [
      "0.4791774849801923\n",
      "0.4782405364695516\n"
     ]
    }
   ],
   "source": [
    "print(ss.binom.cdf(697, 1112, 0.568) - ss.binom.cdf(632, 1112, 0.568))\n",
    "print(ss.binom.cdf(697, 1112, 0.628) - ss.binom.cdf(632, 1112, 0.628))"
   ]
  },
  {
   "cell_type": "markdown",
   "id": "47328a5d-8560-4d66-b9bb-5991818a85c6",
   "metadata": {},
   "source": [
    "# 第二題"
   ]
  },
  {
   "cell_type": "markdown",
   "id": "0baa9876-a342-46ed-9e20-53073be20bcd",
   "metadata": {},
   "source": [
    "## 第A小題"
   ]
  },
  {
   "cell_type": "markdown",
   "id": "fbcf9b53-d7cc-4226-a69d-e169500ac418",
   "metadata": {},
   "source": [
    "### 資料前處理"
   ]
  },
  {
   "cell_type": "code",
   "execution_count": 4,
   "id": "22b58dc6-257b-46bb-b577-08d5950fc09c",
   "metadata": {},
   "outputs": [
    {
     "data": {
      "text/html": [
       "<div>\n",
       "<style scoped>\n",
       "    .dataframe tbody tr th:only-of-type {\n",
       "        vertical-align: middle;\n",
       "    }\n",
       "\n",
       "    .dataframe tbody tr th {\n",
       "        vertical-align: top;\n",
       "    }\n",
       "\n",
       "    .dataframe thead th {\n",
       "        text-align: right;\n",
       "    }\n",
       "</style>\n",
       "<table border=\"1\" class=\"dataframe\">\n",
       "  <thead>\n",
       "    <tr style=\"text-align: right;\">\n",
       "      <th></th>\n",
       "      <th>1961</th>\n",
       "      <th>1962</th>\n",
       "      <th>1963</th>\n",
       "      <th>1964</th>\n",
       "      <th>1965</th>\n",
       "      <th>1966</th>\n",
       "      <th>1967</th>\n",
       "      <th>1968</th>\n",
       "      <th>1969</th>\n",
       "      <th>1970</th>\n",
       "      <th>...</th>\n",
       "      <th>2000</th>\n",
       "      <th>2001</th>\n",
       "      <th>2002</th>\n",
       "      <th>2003</th>\n",
       "      <th>2004</th>\n",
       "      <th>2005</th>\n",
       "      <th>2006</th>\n",
       "      <th>2007</th>\n",
       "      <th>2008</th>\n",
       "      <th>2009</th>\n",
       "    </tr>\n",
       "    <tr>\n",
       "      <th>Date</th>\n",
       "      <th></th>\n",
       "      <th></th>\n",
       "      <th></th>\n",
       "      <th></th>\n",
       "      <th></th>\n",
       "      <th></th>\n",
       "      <th></th>\n",
       "      <th></th>\n",
       "      <th></th>\n",
       "      <th></th>\n",
       "      <th></th>\n",
       "      <th></th>\n",
       "      <th></th>\n",
       "      <th></th>\n",
       "      <th></th>\n",
       "      <th></th>\n",
       "      <th></th>\n",
       "      <th></th>\n",
       "      <th></th>\n",
       "      <th></th>\n",
       "      <th></th>\n",
       "    </tr>\n",
       "  </thead>\n",
       "  <tbody>\n",
       "    <tr>\n",
       "      <th>07-01</th>\n",
       "      <td>32.2</td>\n",
       "      <td>33.0</td>\n",
       "      <td>29.0</td>\n",
       "      <td>36.4</td>\n",
       "      <td>31.8</td>\n",
       "      <td>35.6</td>\n",
       "      <td>33.9</td>\n",
       "      <td>32.0</td>\n",
       "      <td>33.0</td>\n",
       "      <td>33.7</td>\n",
       "      <td>...</td>\n",
       "      <td>34.4</td>\n",
       "      <td>35.0</td>\n",
       "      <td>34.3</td>\n",
       "      <td>33.9</td>\n",
       "      <td>32.6</td>\n",
       "      <td>33.3</td>\n",
       "      <td>34.4</td>\n",
       "      <td>34.3</td>\n",
       "      <td>32.6</td>\n",
       "      <td>34.7</td>\n",
       "    </tr>\n",
       "    <tr>\n",
       "      <th>07-02</th>\n",
       "      <td>33.0</td>\n",
       "      <td>32.5</td>\n",
       "      <td>31.9</td>\n",
       "      <td>34.6</td>\n",
       "      <td>31.5</td>\n",
       "      <td>33.9</td>\n",
       "      <td>34.0</td>\n",
       "      <td>32.8</td>\n",
       "      <td>32.8</td>\n",
       "      <td>34.0</td>\n",
       "      <td>...</td>\n",
       "      <td>34.4</td>\n",
       "      <td>35.9</td>\n",
       "      <td>33.9</td>\n",
       "      <td>33.1</td>\n",
       "      <td>30.8</td>\n",
       "      <td>34.7</td>\n",
       "      <td>36.1</td>\n",
       "      <td>34.7</td>\n",
       "      <td>33.8</td>\n",
       "      <td>31.4</td>\n",
       "    </tr>\n",
       "    <tr>\n",
       "      <th>07-03</th>\n",
       "      <td>33.2</td>\n",
       "      <td>33.4</td>\n",
       "      <td>31.2</td>\n",
       "      <td>34.0</td>\n",
       "      <td>31.2</td>\n",
       "      <td>32.0</td>\n",
       "      <td>34.2</td>\n",
       "      <td>32.2</td>\n",
       "      <td>33.6</td>\n",
       "      <td>32.6</td>\n",
       "      <td>...</td>\n",
       "      <td>32.5</td>\n",
       "      <td>35.3</td>\n",
       "      <td>29.8</td>\n",
       "      <td>34.6</td>\n",
       "      <td>31.6</td>\n",
       "      <td>33.1</td>\n",
       "      <td>35.2</td>\n",
       "      <td>35.0</td>\n",
       "      <td>35.7</td>\n",
       "      <td>30.3</td>\n",
       "    </tr>\n",
       "    <tr>\n",
       "      <th>07-04</th>\n",
       "      <td>32.9</td>\n",
       "      <td>33.1</td>\n",
       "      <td>31.7</td>\n",
       "      <td>34.2</td>\n",
       "      <td>34.5</td>\n",
       "      <td>29.2</td>\n",
       "      <td>35.7</td>\n",
       "      <td>33.5</td>\n",
       "      <td>34.4</td>\n",
       "      <td>35.7</td>\n",
       "      <td>...</td>\n",
       "      <td>30.8</td>\n",
       "      <td>29.8</td>\n",
       "      <td>33.1</td>\n",
       "      <td>34.7</td>\n",
       "      <td>33.1</td>\n",
       "      <td>36.0</td>\n",
       "      <td>34.8</td>\n",
       "      <td>33.6</td>\n",
       "      <td>35.1</td>\n",
       "      <td>33.8</td>\n",
       "    </tr>\n",
       "    <tr>\n",
       "      <th>07-05</th>\n",
       "      <td>34.1</td>\n",
       "      <td>33.7</td>\n",
       "      <td>32.9</td>\n",
       "      <td>35.4</td>\n",
       "      <td>34.2</td>\n",
       "      <td>31.2</td>\n",
       "      <td>36.3</td>\n",
       "      <td>32.6</td>\n",
       "      <td>34.7</td>\n",
       "      <td>33.0</td>\n",
       "      <td>...</td>\n",
       "      <td>32.7</td>\n",
       "      <td>31.9</td>\n",
       "      <td>34.9</td>\n",
       "      <td>35.0</td>\n",
       "      <td>31.0</td>\n",
       "      <td>35.2</td>\n",
       "      <td>35.2</td>\n",
       "      <td>34.2</td>\n",
       "      <td>33.4</td>\n",
       "      <td>33.8</td>\n",
       "    </tr>\n",
       "  </tbody>\n",
       "</table>\n",
       "<p>5 rows × 49 columns</p>\n",
       "</div>"
      ],
      "text/plain": [
       "       1961  1962  1963  1964  1965  1966  1967  1968  1969  1970  ...  2000  \\\n",
       "Date                                                               ...         \n",
       "07-01  32.2  33.0  29.0  36.4  31.8  35.6  33.9  32.0  33.0  33.7  ...  34.4   \n",
       "07-02  33.0  32.5  31.9  34.6  31.5  33.9  34.0  32.8  32.8  34.0  ...  34.4   \n",
       "07-03  33.2  33.4  31.2  34.0  31.2  32.0  34.2  32.2  33.6  32.6  ...  32.5   \n",
       "07-04  32.9  33.1  31.7  34.2  34.5  29.2  35.7  33.5  34.4  35.7  ...  30.8   \n",
       "07-05  34.1  33.7  32.9  35.4  34.2  31.2  36.3  32.6  34.7  33.0  ...  32.7   \n",
       "\n",
       "       2001  2002  2003  2004  2005  2006  2007  2008  2009  \n",
       "Date                                                         \n",
       "07-01  35.0  34.3  33.9  32.6  33.3  34.4  34.3  32.6  34.7  \n",
       "07-02  35.9  33.9  33.1  30.8  34.7  36.1  34.7  33.8  31.4  \n",
       "07-03  35.3  29.8  34.6  31.6  33.1  35.2  35.0  35.7  30.3  \n",
       "07-04  29.8  33.1  34.7  33.1  36.0  34.8  33.6  35.1  33.8  \n",
       "07-05  31.9  34.9  35.0  31.0  35.2  35.2  34.2  33.4  33.8  \n",
       "\n",
       "[5 rows x 49 columns]"
      ]
     },
     "execution_count": 4,
     "metadata": {},
     "output_type": "execute_result"
    }
   ],
   "source": [
    "raw = pd.read_csv('466920chkd.txt', sep='\\t')\n",
    "raw.index = pd.date_range('1961-01-01 00', '2009-12-31 23', freq='H')\n",
    "raw.columns = ['stn', 'Time', 'TX01']\n",
    "\n",
    "July = raw[raw.index.month==7]['TX01'].values.reshape(49,31*24).T\n",
    "idx1 = pd.date_range('1961-07-01 00', '1961-07-31 23', freq='D').strftime('%m-%d')\n",
    "idx2 = pd.date_range('1961-07-01 00', '1961-07-01 23', freq='H').strftime('%H')\n",
    "midx = pd.MultiIndex.from_product([idx1, idx2], names=['Date', 'Hour'])\n",
    "col = np.arange(1961, 2010, 1).astype(str)\n",
    "JulyTemp = pd.DataFrame(July, index=midx, columns=col)\n",
    "JulyDMax = JulyTemp.groupby(level='Date').max()\n",
    "JulyDMax.head()"
   ]
  },
  {
   "cell_type": "code",
   "execution_count": 5,
   "id": "05c75e78-338c-43b2-a17c-c2065da1d830",
   "metadata": {},
   "outputs": [
    {
     "name": "stdout",
     "output_type": "stream",
     "text": [
      "No. of obs:  1519\n",
      " Min & Max:  (24.1, 38.0)\n",
      "      Mean: 33.6221\n",
      "  Variance:  3.7008\n",
      "  Skewness: -1.0385\n",
      "  Kurtosis:  5.0056\n"
     ]
    }
   ],
   "source": [
    "print('No. of obs: ', ss.describe(JulyDMax.values.flatten()).nobs)\n",
    "print(' Min & Max: ', ss.describe(JulyDMax.values.flatten()).minmax)\n",
    "print('      Mean: {:7.4f}'.format(ss.describe(JulyDMax.values.flatten()).mean))\n",
    "print('  Variance: {:7.4f}'.format(ss.describe(JulyDMax.values.flatten()).variance))\n",
    "print('  Skewness: {:7.4f}'.format(ss.describe(JulyDMax.values.flatten()).skewness))\n",
    "print('  Kurtosis: {:7.4f}'.format(ss.describe(JulyDMax.values.flatten()).kurtosis+3))"
   ]
  },
  {
   "cell_type": "markdown",
   "id": "49a5a9f2-8587-43d7-8b97-028db00fed80",
   "metadata": {
    "tags": []
   },
   "source": [
    "### 資料直方圖等機率區間與個數"
   ]
  },
  {
   "cell_type": "code",
   "execution_count": 6,
   "id": "a4a6566e-6462-441a-88c6-9bdb0bc6d600",
   "metadata": {},
   "outputs": [
    {
     "name": "stdout",
     "output_type": "stream",
     "text": [
      "    區間      個數           區間      個數\n",
      "24.10~29.92:   82   |   33.69~33.82:   77\n",
      "29.92~30.53:   26   |   33.82~33.95:   31\n",
      "30.53~30.93:   20   |   33.95~34.08:   42\n",
      "30.93~31.24:   22   |   34.08~34.22:   73\n",
      "31.24~31.50:   28   |   34.22~34.36:   31\n",
      "31.50~31.73:   16   |   34.36~34.50:   42\n",
      "31.73~31.93:   24   |   34.50~34.65:   72\n",
      "31.93~32.11:   34   |   34.65~34.80:   42\n",
      "32.11~32.28:   23   |   34.80~34.96:   52\n",
      "32.28~32.44:   36   |   34.96~35.13:   63\n",
      "32.44~32.60:   16   |   35.13~35.32:   52\n",
      "32.60~32.75:   46   |   35.32~35.52:   44\n",
      "32.75~32.89:   29   |   35.52~35.74:   41\n",
      "32.89~33.03:   72   |   35.74~36.00:   49\n",
      "33.03~33.16:   41   |   36.00~36.31:   42\n",
      "33.16~33.29:   34   |   36.31~36.71:   40\n",
      "33.29~33.43:   71   |   36.71~37.33:   21\n",
      "33.43~33.56:   38   |   37.33~38.00:   10\n",
      "33.56~33.69:   37\n"
     ]
    }
   ],
   "source": [
    "mean = ss.describe(JulyDMax.values.flatten()).mean\n",
    "std = ss.describe(JulyDMax.values.flatten()).variance**0.5\n",
    "equiprob = []\n",
    "for i in range(0,38):\n",
    "    if i == 0:\n",
    "        equiprob.append(ss.describe(JulyDMax.values.flatten()).minmax[0])\n",
    "    elif i == 37:\n",
    "        equiprob.append(ss.describe(JulyDMax.values.flatten()).minmax[1])\n",
    "    else:\n",
    "        equiprob.append(ss.norm.ppf(i/37, loc=mean, scale=std))\n",
    "\n",
    "hist, bin_edges = np.histogram(JulyDMax.values.flatten(), bins=equiprob)\n",
    "print('{:^10}{:^6}   {:^14}{:^1}'.format('區間','個數','區間','個數'))\n",
    "for i in range(19):\n",
    "    if i < 18:\n",
    "        print('{0:5.2f}~{1:5.2f}: {2:4d}   |   {3:5.2f}~{4:5.2f}: {5:4d}'\\\n",
    "              .format(bin_edges[i],bin_edges[i+1],hist[i],\n",
    "                      bin_edges[i+19],bin_edges[i+20],hist[i+19]))\n",
    "    else:\n",
    "        print('{0:5.2f}~{1:5.2f}: {2:4d}'\\\n",
    "              .format(bin_edges[i],bin_edges[i+1],hist[i]))"
   ]
  },
  {
   "cell_type": "markdown",
   "id": "299b96ef-f91a-4458-afca-e10e4b745091",
   "metadata": {},
   "source": [
    "### 常態分布相同區間內預期個數"
   ]
  },
  {
   "cell_type": "code",
   "execution_count": 7,
   "id": "52618298-6d0c-4afb-abea-c97f5ce4d4fe",
   "metadata": {},
   "outputs": [
    {
     "name": "stdout",
     "output_type": "stream",
     "text": [
      "    區間      個數           區間      個數\n",
      "24.10~29.92:   41   |   33.69~33.82:   41\n",
      "29.92~30.53:   41   |   33.82~33.95:   41\n",
      "30.53~30.93:   41   |   33.95~34.08:   41\n",
      "30.93~31.24:   41   |   34.08~34.22:   41\n",
      "31.24~31.50:   41   |   34.22~34.36:   41\n",
      "31.50~31.73:   41   |   34.36~34.50:   41\n",
      "31.73~31.93:   41   |   34.50~34.65:   41\n",
      "31.93~32.11:   41   |   34.65~34.80:   41\n",
      "32.11~32.28:   41   |   34.80~34.96:   41\n",
      "32.28~32.44:   41   |   34.96~35.13:   41\n",
      "32.44~32.60:   41   |   35.13~35.32:   41\n",
      "32.60~32.75:   41   |   35.32~35.52:   41\n",
      "32.75~32.89:   41   |   35.52~35.74:   41\n",
      "32.89~33.03:   41   |   35.74~36.00:   41\n",
      "33.03~33.16:   41   |   36.00~36.31:   41\n",
      "33.16~33.29:   41   |   36.31~36.71:   41\n",
      "33.29~33.43:   41   |   36.71~37.33:   41\n",
      "33.43~33.56:   41   |   37.33~38.00:   24\n",
      "33.56~33.69:   41\n"
     ]
    }
   ],
   "source": [
    "nobs = ss.describe(JulyDMax.values.flatten()).nobs\n",
    "expected = []\n",
    "for i in range(37):\n",
    "    lower = bin_edges[i]\n",
    "    upper = bin_edges[i+1]\n",
    "    prob = ss.norm.cdf(upper, mean, std) - ss.norm.cdf(lower, mean, std)\n",
    "    expected.append(np.round(nobs * prob, 1))\n",
    "\n",
    "print('{:^10}{:^6}   {:^14}{:^1}'.format('區間','個數','區間','個數'))\n",
    "for i in range(19):\n",
    "    if i < 18:\n",
    "        print('{0:5.2f}~{1:5.2f}: {2:4.0f}   |   {3:5.2f}~{4:5.2f}: {5:4.0f}'\\\n",
    "              .format(bin_edges[i],bin_edges[i+1],expected[i],\n",
    "                      bin_edges[i+19],bin_edges[i+20],expected[i+19]))\n",
    "    else:\n",
    "        print('{0:5.2f}~{1:5.2f}: {2:4.0f}'\\\n",
    "              .format(bin_edges[i],bin_edges[i+1],expected[i]))"
   ]
  },
  {
   "cell_type": "markdown",
   "id": "684effeb-c911-475c-b8c2-934782fe7321",
   "metadata": {},
   "source": [
    "### Chi-square Test"
   ]
  },
  {
   "cell_type": "code",
   "execution_count": 8,
   "id": "bcdba185-0b33-45c5-abbf-af6add7244bf",
   "metadata": {},
   "outputs": [
    {
     "name": "stdout",
     "output_type": "stream",
     "text": [
      "Chi-square Test Statistic: 290.079\n",
      "Critical Value: 48.602\n"
     ]
    }
   ],
   "source": [
    "statistic, pvalue = ss.chisquare(hist, expected, ddof=2) # df = k-ddof-1\n",
    "print('Chi-square Test Statistic: {:5.3f}'.format(statistic))\n",
    "chi_square = ss.chi2.ppf(0.95, df=37-3)\n",
    "print('Critical Value: {:5.3f}'.format(chi_square))"
   ]
  },
  {
   "cell_type": "markdown",
   "id": "ed2427fa-1be2-4542-a4c5-facd9408b8c8",
   "metadata": {},
   "source": [
    "Test Statistic > Critical Value $\\Rightarrow$ Reject Null Hypothesis"
   ]
  },
  {
   "cell_type": "markdown",
   "id": "42ffbb60-39bb-4d41-8585-dce1205e659e",
   "metadata": {},
   "source": [
    "## 第B小題"
   ]
  },
  {
   "cell_type": "code",
   "execution_count": 9,
   "id": "3786fe00-af46-4b8b-a4c4-2bc126802284",
   "metadata": {},
   "outputs": [
    {
     "name": "stdout",
     "output_type": "stream",
     "text": [
      "Lower Bound: 28.4\n",
      "Upper Bound: 36.6\n",
      "   Less than Lower Bound:  2 (0.717%)\n",
      "Greater than Upper Bound: 10 (3.584%)\n"
     ]
    }
   ],
   "source": [
    "LB = np.quantile(JulyDMax.loc[:,'1961':'2000'], 0.025, interpolation='midpoint')\n",
    "UB = np.quantile(JulyDMax.loc[:,'1961':'2000'], 0.975, interpolation='midpoint')\n",
    "lsLB = np.sum(JulyDMax.loc[:,'2001':'2009'].values.flatten() < LB)\n",
    "grUB = np.sum(JulyDMax.loc[:,'2001':'2009'].values.flatten() > UB)\n",
    "print('Lower Bound: {:4.1f}'.format(LB))\n",
    "print('Upper Bound: {:4.1f}'.format(UB))\n",
    "print('   Less than Lower Bound: {0:2d} ({1:.3f}%)'.format(lsLB, lsLB/279*100))\n",
    "print('Greater than Upper Bound: {0:2d} ({1:.3f}%)'.format(grUB, grUB/279*100))"
   ]
  },
  {
   "cell_type": "markdown",
   "id": "43b40bb7-b7a3-4fab-b5a0-d9346cb205a7",
   "metadata": {},
   "source": [
    "## 第C小題"
   ]
  },
  {
   "cell_type": "code",
   "execution_count": 10,
   "id": "b8d21fb9-1153-4e89-9459-234a959fc0a6",
   "metadata": {},
   "outputs": [
    {
     "name": "stdout",
     "output_type": "stream",
     "text": [
      "小於 LB 的百分比門檻值： [0.717%, 4.659%]\n",
      "大於 UB 的百分比門檻值： [0.717%, 4.659%]\n"
     ]
    }
   ],
   "source": [
    "sim = ss.norm.rvs(loc=0, scale=1, size=(10000, 1519))\n",
    "lsList = []\n",
    "grList = []\n",
    "for i in range(10000):\n",
    "    lb = np.quantile(sim[i, :1240], 0.025, interpolation='midpoint')\n",
    "    ub = np.quantile(sim[i, :1240], 0.975, interpolation='midpoint')\n",
    "    lsList.append(np.sum(sim[i, 1240:] < lb)/279*100)\n",
    "    grList.append(np.sum(sim[i, 1240:] > ub)/279*100)\n",
    "    \n",
    "lsLLB = np.quantile(lsList, 0.025, interpolation='midpoint')\n",
    "lsLUB = np.quantile(lsList, 0.975, interpolation='midpoint')\n",
    "grLLB = np.quantile(grList, 0.025, interpolation='midpoint') \n",
    "grLUB = np.quantile(grList, 0.975, interpolation='midpoint')\n",
    "print('小於 LB 的百分比門檻值： [{0:.3f}%, {1:.3f}%]'.format(lsLLB, lsLUB))\n",
    "print('大於 UB 的百分比門檻值： [{0:.3f}%, {1:.3f}%]'.format(grLLB, grLUB))"
   ]
  },
  {
   "cell_type": "markdown",
   "id": "858b84cd-fe3b-46ad-ac73-a82af63633d0",
   "metadata": {},
   "source": [
    "## 第E小題"
   ]
  },
  {
   "cell_type": "code",
   "execution_count": 11,
   "id": "35c81bb1-9ab3-44ff-a7f3-ac5279497205",
   "metadata": {},
   "outputs": [
    {
     "name": "stdout",
     "output_type": "stream",
     "text": [
      "No. of obs:  1240\n",
      " Min & Max:  (24.1, 37.8)\n",
      "      Mean: 33.5122\n",
      "  Variance:  3.7085\n",
      "  Skewness: -1.0765\n"
     ]
    }
   ],
   "source": [
    "data = JulyDMax.loc[:,'1961':'2000'].values.flatten()\n",
    "print('No. of obs: ', ss.describe(data).nobs)\n",
    "print(' Min & Max: ', ss.describe(data).minmax)\n",
    "print('      Mean: {:7.4f}'.format(ss.describe(data).mean))\n",
    "print('  Variance: {:7.4f}'.format(ss.describe(data).variance))\n",
    "print('  Skewness: {:7.4f}'.format(ss.describe(data).skewness))"
   ]
  },
  {
   "cell_type": "code",
   "execution_count": 12,
   "id": "0cd53312-309c-4bb2-80a1-8edf542ef4d8",
   "metadata": {},
   "outputs": [
    {
     "name": "stdout",
     "output_type": "stream",
     "text": [
      "    區間      個數           區間      個數\n",
      "24.10~28.98:   41   |   33.91~34.03:   38\n",
      "28.98~29.99:   29   |   34.03~34.15:   24\n",
      "29.99~30.60:   28   |   34.15~34.27:   31\n",
      "30.60~31.05:   21   |   34.27~34.38:   23\n",
      "31.05~31.41:   23   |   34.38~34.50:   36\n",
      "31.41~31.71:   24   |   34.50~34.61:   60\n",
      "31.71~31.98:   20   |   34.61~34.72:   31\n",
      "31.98~32.21:   48   |   34.72~34.84:   27\n",
      "32.21~32.42:   34   |   34.84~34.95:   16\n",
      "32.42~32.61:   38   |   34.95~35.07:   25\n",
      "32.61~32.79:   17   |   35.07~35.20:   20\n",
      "32.79~32.95:   51   |   35.20~35.33:   39\n",
      "32.95~33.11:   77   |   35.33~35.46:   19\n",
      "33.11~33.26:   29   |   35.46~35.61:   40\n",
      "33.26~33.40:   28   |   35.61~35.77:   13\n",
      "33.40~33.53:   62   |   35.77~35.96:   23\n",
      "33.53~33.66:   34   |   35.96~36.21:   23\n",
      "33.66~33.79:   26   |   36.21~37.80:   62\n",
      "33.79~33.91:   60\n"
     ]
    }
   ],
   "source": [
    "mean = ss.describe(data).mean\n",
    "std  = ss.describe(data).variance**0.5\n",
    "skew = ss.describe(data).skewness\n",
    "\n",
    "equiprob = []\n",
    "for i in range(0,38):\n",
    "    if i == 0:\n",
    "        equiprob.append(ss.describe(data).minmax[0])\n",
    "    elif i == 37:\n",
    "        equiprob.append(ss.describe(data).minmax[1])\n",
    "    else:\n",
    "        equiprob.append(ss.pearson3.ppf((37-i)/37, skew, mean, std))\n",
    "\n",
    "hist, bin_edges = np.histogram(data, bins=equiprob)\n",
    "print('{:^10}{:^6}   {:^14}{:^1}'.format('區間','個數','區間','個數'))\n",
    "for i in range(19):\n",
    "    if i < 18:\n",
    "        print('{0:5.2f}~{1:5.2f}: {2:4d}   |   {3:5.2f}~{4:5.2f}: {5:4d}'\\\n",
    "              .format(bin_edges[i],bin_edges[i+1],hist[i],\n",
    "                      bin_edges[i+19],bin_edges[i+20],hist[i+19]))\n",
    "    else:\n",
    "        print('{0:5.2f}~{1:5.2f}: {2:4d}'\\\n",
    "              .format(bin_edges[i],bin_edges[i+1],hist[i]))"
   ]
  },
  {
   "cell_type": "code",
   "execution_count": 13,
   "id": "7d47f313-c83c-4652-a558-786ccfe6f309",
   "metadata": {},
   "outputs": [
    {
     "name": "stdout",
     "output_type": "stream",
     "text": [
      "    區間      個數           區間      個數\n",
      "24.10~28.98:   33   |   33.91~34.03:   34\n",
      "28.98~29.99:   34   |   34.03~34.15:   34\n",
      "29.99~30.60:   34   |   34.15~34.27:   34\n",
      "30.60~31.05:   34   |   34.27~34.38:   34\n",
      "31.05~31.41:   34   |   34.38~34.50:   34\n",
      "31.41~31.71:   34   |   34.50~34.61:   34\n",
      "31.71~31.98:   34   |   34.61~34.72:   34\n",
      "31.98~32.21:   34   |   34.72~34.84:   34\n",
      "32.21~32.42:   34   |   34.84~34.95:   34\n",
      "32.42~32.61:   34   |   34.95~35.07:   34\n",
      "32.61~32.79:   34   |   35.07~35.20:   34\n",
      "32.79~32.95:   34   |   35.20~35.33:   34\n",
      "32.95~33.11:   34   |   35.33~35.46:   34\n",
      "33.11~33.26:   34   |   35.46~35.61:   34\n",
      "33.26~33.40:   34   |   35.61~35.77:   34\n",
      "33.40~33.53:   34   |   35.77~35.96:   34\n",
      "33.53~33.66:   34   |   35.96~36.21:   34\n",
      "33.66~33.79:   34   |   36.21~37.80:   34\n",
      "33.79~33.91:   34\n"
     ]
    }
   ],
   "source": [
    "nobs = ss.describe(data).nobs\n",
    "expected = []\n",
    "for i in range(37):\n",
    "    lower = bin_edges[i]\n",
    "    upper = bin_edges[i+1]\n",
    "    prob = ss.pearson3.cdf(upper,skew,mean,std) - ss.pearson3.cdf(lower,skew,mean,std)\n",
    "    expected.append(np.round(nobs * prob, 1))\n",
    "\n",
    "print('{:^10}{:^6}   {:^14}{:^1}'.format('區間','個數','區間','個數'))\n",
    "for i in range(19):\n",
    "    if i < 18:\n",
    "        print('{0:5.2f}~{1:5.2f}: {2:4.0f}   |   {3:5.2f}~{4:5.2f}: {5:4.0f}'\\\n",
    "              .format(bin_edges[i],bin_edges[i+1],expected[i],\n",
    "                      bin_edges[i+19],bin_edges[i+20],expected[i+19]))\n",
    "    else:\n",
    "        print('{0:5.2f}~{1:5.2f}: {2:4.0f}'\\\n",
    "              .format(bin_edges[i],bin_edges[i+1],expected[i]))"
   ]
  },
  {
   "cell_type": "markdown",
   "id": "8a8e9cfb-57f7-404a-b40e-0ec47f62553f",
   "metadata": {},
   "source": [
    "### Chi-square Test"
   ]
  },
  {
   "cell_type": "code",
   "execution_count": 14,
   "id": "4ac8e8d7-32a6-4ede-9f57-43e513e91391",
   "metadata": {},
   "outputs": [
    {
     "name": "stdout",
     "output_type": "stream",
     "text": [
      "Chi-square Test Statistic: 246.674\n",
      "Critical Value: 47.400\n"
     ]
    }
   ],
   "source": [
    "statistic, pvalue = ss.chisquare(hist, expected, ddof=3) # df = k-ddof-1\n",
    "print('Chi-square Test Statistic: {:5.3f}'.format(statistic))\n",
    "chi_square = ss.chi2.ppf(0.95, df=37-4)\n",
    "print('Critical Value: {:5.3f}'.format(chi_square))"
   ]
  },
  {
   "cell_type": "code",
   "execution_count": 15,
   "id": "f3d315ea-af73-4333-8e3f-071af45dad9c",
   "metadata": {},
   "outputs": [
    {
     "name": "stdout",
     "output_type": "stream",
     "text": [
      "小於 LB 的百分比門檻值： [0.717%, 4.659%]\n",
      "大於 UB 的百分比門檻值： [0.717%, 4.659%]\n"
     ]
    }
   ],
   "source": [
    "sim = ss.pearson3.rvs(skew, mean, std, size=(10000, 1519))\n",
    "lsList = []\n",
    "grList = []\n",
    "for i in range(10000):\n",
    "    lb = np.quantile(sim[i, :1240], 0.025, interpolation='midpoint')\n",
    "    ub = np.quantile(sim[i, :1240], 0.975, interpolation='midpoint')\n",
    "    lsList.append(np.sum(sim[i, 1240:] < lb)/279*100)\n",
    "    grList.append(np.sum(sim[i, 1240:] > ub)/279*100)\n",
    "    \n",
    "lsLLB = np.quantile(lsList, 0.025, interpolation='midpoint')\n",
    "lsLUB = np.quantile(lsList, 0.975, interpolation='midpoint')\n",
    "grLLB = np.quantile(grList, 0.025, interpolation='midpoint') \n",
    "grLUB = np.quantile(grList, 0.975, interpolation='midpoint')\n",
    "print('小於 LB 的百分比門檻值： [{0:.3f}%, {1:.3f}%]'.format(lsLLB, lsLUB))\n",
    "print('大於 UB 的百分比門檻值： [{0:.3f}%, {1:.3f}%]'.format(grLLB, grLUB))"
   ]
  }
 ],
 "metadata": {
  "kernelspec": {
   "display_name": "Python 3 (ipykernel)",
   "language": "python",
   "name": "python3"
  },
  "language_info": {
   "codemirror_mode": {
    "name": "ipython",
    "version": 3
   },
   "file_extension": ".py",
   "mimetype": "text/x-python",
   "name": "python",
   "nbconvert_exporter": "python",
   "pygments_lexer": "ipython3",
   "version": "3.7.11"
  }
 },
 "nbformat": 4,
 "nbformat_minor": 5
}
