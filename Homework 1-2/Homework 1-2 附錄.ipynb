{
 "cells": [
  {
   "cell_type": "code",
   "execution_count": 1,
   "id": "35f9e467-2664-4d35-9f24-b1ee5a1bf4d1",
   "metadata": {},
   "outputs": [],
   "source": [
    "import numpy as np\n",
    "import pandas as pd\n",
    "import scipy.stats as ss\n",
    "from scipy.spatial import distance_matrix"
   ]
  },
  {
   "cell_type": "markdown",
   "id": "207ed9f0-ee8c-4b0a-9448-6e0d519621f6",
   "metadata": {
    "tags": []
   },
   "source": [
    "# 第三題"
   ]
  },
  {
   "cell_type": "code",
   "execution_count": 2,
   "id": "4274760e-1983-4708-b5db-aaef381bcd8d",
   "metadata": {},
   "outputs": [],
   "source": [
    "def Wilcoxon_RankSum(x1, x2, correction=True):\n",
    "    n1, n2 = len(x1), len(x2)\n",
    "    N = n1 + n2\n",
    "    Rank = pd.concat([x1, x2], ignore_index=False).rank()\n",
    "    if n1 < n2:\n",
    "        W = Rank.loc[x1.index[0]].sum()\n",
    "        mu = n1 * (N+1) / 2\n",
    "    else:\n",
    "        W = Rank.loc[x2.index[0]].sum()\n",
    "        mu = n2 * (N+1) / 2\n",
    "    \n",
    "    if correction:\n",
    "        sigma = np.sqrt(n1*n2 * np.sum(Rank**2) / (N*(N-1)) - \n",
    "                        n1*n2 * (N+1)**2 / (4*(N-1)))\n",
    "    else:\n",
    "        sigma = np.sqrt(n1 * n2 * (N+1) / 12)\n",
    "    \n",
    "    if   W > mu: T = (W - 0.5 - mu) / sigma\n",
    "    elif W < mu: T = (W + 0.5 - mu) / sigma\n",
    "    else:        T = 0\n",
    "    \n",
    "    print('Statistic T = {:.3f}'.format(T))\n",
    "    print('Critical Values: +1.96 / -1.96')"
   ]
  },
  {
   "cell_type": "markdown",
   "id": "a7b3b6c3-91cb-4ad9-8105-3cc35b5ad1b6",
   "metadata": {},
   "source": [
    "## Wilcoxon Rank-sum Test by self-defined function"
   ]
  },
  {
   "cell_type": "code",
   "execution_count": 3,
   "id": "128d8a47-c4c4-4b24-9604-1fec4312419b",
   "metadata": {},
   "outputs": [
    {
     "name": "stdout",
     "output_type": "stream",
     "text": [
      "Statistic T = 3.567\n",
      "Critical Values: +1.96 / -1.96\n"
     ]
    }
   ],
   "source": [
    "Data = pd.read_csv('JulyDMax.csv', index_col='Date')\n",
    "DMax1 = pd.Series(Data.loc[:,'1961':'1980'].values.flatten(), index=[1]*620)\n",
    "DMax2 = pd.Series(Data.loc[:,'1990':'2009'].values.flatten(), index=[2]*620)\n",
    "Wilcoxon_RankSum(DMax1, DMax2)"
   ]
  },
  {
   "cell_type": "markdown",
   "id": "1bf6151b-b619-4c43-b883-db1ecd93778b",
   "metadata": {},
   "source": [
    "## Wilcoxon Rank-sum Test in SciPy"
   ]
  },
  {
   "cell_type": "code",
   "execution_count": 4,
   "id": "40ff30d9-df99-458d-b7c7-70e727cb2a95",
   "metadata": {},
   "outputs": [
    {
     "name": "stdout",
     "output_type": "stream",
     "text": [
      "Statistic = 3.566\n",
      "  p-value = 0.00036\n"
     ]
    }
   ],
   "source": [
    "res = ss.ranksums(DMax2, DMax1)\n",
    "print('Statistic = {:3.3f}'.format(res.statistic))\n",
    "print('  p-value = {:.5f}'.format(res.pvalue))"
   ]
  },
  {
   "cell_type": "markdown",
   "id": "ec5c0971-d5dd-492d-8c47-d408986fc027",
   "metadata": {},
   "source": [
    "## Mann-Whitney U Test in SciPy"
   ]
  },
  {
   "cell_type": "code",
   "execution_count": 5,
   "id": "fe148d55-6d9c-4414-801f-bfafc4f2dbe0",
   "metadata": {},
   "outputs": [
    {
     "name": "stdout",
     "output_type": "stream",
     "text": [
      "Statistic = 214683.5\n",
      "  p-value = 0.00036\n"
     ]
    }
   ],
   "source": [
    "res = ss.mannwhitneyu(DMax2, DMax1)\n",
    "print('Statistic = {:8.1f}'.format(res.statistic))\n",
    "print('  p-value = {:.5f}'.format(res.pvalue))"
   ]
  },
  {
   "cell_type": "markdown",
   "id": "175e8049-326e-4edb-9d4c-3d9e75504dac",
   "metadata": {},
   "source": [
    "# 第四題"
   ]
  },
  {
   "cell_type": "code",
   "execution_count": 6,
   "id": "9dfe01fc-b3f0-430d-a24e-745ecdb7d7e3",
   "metadata": {},
   "outputs": [],
   "source": [
    "chi2 = ss.chi2.ppf(0.95, df=8-3)             # alpha=0.05, df=k(8)-m(2)-1\n",
    "beta = 1                                     # When beta < 0.05, stop.\n",
    "n = 2                                        # n = 2,3,4,... \n",
    "B = []\n",
    "successive = 0\n",
    "alpha = np.sqrt(6) / np.pi\n",
    "scale = alpha * 1                  # Sigma = 1\n",
    "loc   = 0 - np.euler_gamma * scale #  Mean = 0\n",
    "\n",
    "while beta >= 0.05 or successive != 3:\n",
    "    F = ss.uniform.rvs(size=(10000,8*n))\n",
    "    x = ss.gumbel_r.ppf(F, loc=loc, scale=scale)\n",
    "    count = 0\n",
    "    for i in range(10000):\n",
    "        mean = x[i].mean()\n",
    "        std = x[i].std(ddof=1)\n",
    "        # Equiprobable Intervals\n",
    "        equiprob = ss.norm.ppf(np.linspace(0, 1, 9), mean, std) \n",
    "        hist, bin_edges = np.histogram(x[i], bins=equiprob)\n",
    "        expected = np.ones(8) * n\n",
    "        statistic, pvalue = ss.chisquare(hist, expected, ddof=2)\n",
    "        if statistic < chi2: # Do not reject H0. (Type II error)\n",
    "            count = count + 1\n",
    "    beta = count / 10000\n",
    "    B.append(beta)\n",
    "    \n",
    "    if beta < 0.05: successive = successive + 1\n",
    "    \n",
    "    if successive == 3: break\n",
    "    else: n = n + 1"
   ]
  },
  {
   "cell_type": "markdown",
   "id": "6028a83d-edb0-4074-bbd7-1bf2fdcc01ad",
   "metadata": {},
   "source": [
    "# 第五題"
   ]
  },
  {
   "cell_type": "markdown",
   "id": "d26dc404-ecce-4718-bb34-fd4646c90505",
   "metadata": {},
   "source": [
    "## 第A小題"
   ]
  },
  {
   "cell_type": "code",
   "execution_count": 7,
   "id": "b80717d2-6742-4b1e-8530-55546b95e203",
   "metadata": {},
   "outputs": [],
   "source": [
    "mu = np.ones(5) * 30\n",
    "sigma = 3\n",
    "# Coordinates of 5 stations (O-D-A-B-C)\n",
    "coord = np.array([[0,0], [-20,-60], [20,10], [25,50], [-80,30]])\n",
    "# Correlation function\n",
    "corr = lambda d: np.exp(-d/30)\n",
    "# Distance Matrix of 5 stations (O-D-A-B-C)\n",
    "dm = distance_matrix(coord, coord)\n",
    "# Covariance Matrix\n",
    "cov = corr(dm) * sigma**2"
   ]
  },
  {
   "cell_type": "markdown",
   "id": "f70ffb84-19f6-42fe-99fb-d4ac731e29f8",
   "metadata": {},
   "source": [
    "$ X=\\left[\\begin{matrix} O \\\\ D \\end{matrix}\\right] \\qquad Y=\\left[\\begin{matrix} A \\\\ B \\\\ C \\end{matrix}\\right] \\qquad $\n",
    "$ \\Sigma = \\left[\\begin{matrix} \\Sigma_{XX} & \\Sigma_{XY} \\\\ \\Sigma_{YX} & \\Sigma_{YY} \\end{matrix}\\right] = \\left[\\begin{matrix}9.0 & 1.093 & 4.271 & 1.396 & 0.522\\\\1.093 & 9.0 & 0.613 & 0.171 & 0.245\\\\4.271 & 0.613 & 9.0 & 2.348 & 0.301\\\\1.396 & 0.171 & 2.348 & 9.0 & 0.255\\\\0.522 & 0.245 & 0.301 & 0.255 & 9.0\\end{matrix}\\right] $"
   ]
  },
  {
   "cell_type": "code",
   "execution_count": 8,
   "id": "c47a8f7d-09e6-453d-a5ab-bb52061caf39",
   "metadata": {},
   "outputs": [],
   "source": [
    "obs_OD = np.array([33.3, 29.7])\n",
    "# Mean of Station A, B & C given obs at O & D\n",
    "mu_ABC = mu[2:] + cov[2:,:2]@np.linalg.inv(cov[:2,:2])@(obs_OD-mu[:2])\n",
    "# Covariance of Station A, B & C given obs at O & D\n",
    "cov_ABC = cov[2:,2:] - cov[2:,:2]@np.linalg.inv(cov[:2,:2])@cov[:2,2:]\n",
    "corr_ABC = np.eye(3)\n",
    "for i in range(3):\n",
    "    for j in range(3):\n",
    "        if i != j:\n",
    "            corr_ABC[i,j] = cov_ABC[i,j] / np.sqrt(cov_ABC[i,i]*cov_ABC[j,j])"
   ]
  },
  {
   "cell_type": "markdown",
   "id": "d9e47560-5690-4820-8343-b1f968df4d2d",
   "metadata": {},
   "source": [
    "$ \\rho_Y = \\left[\\begin{matrix}1.0 & 0.261 & 0.033\\\\0.261 & 1.0 & 0.028\\\\0.033 & 0.028 & 1.0\\end{matrix}\\right] $\n",
    "\n",
    "$ m_{Y|X} = \\left[\\begin{matrix}31.56\\\\30.51\\\\30.18\\end{matrix}\\right] \\qquad $\n",
    "$ \\Sigma_{Y|X} = \\left[\\begin{matrix}6.972 & 1.685 & 0.051\\\\1.685 & 8.783 & 0.174\\\\0.051 & 0.174 & 8.966\\end{matrix}\\right] \\qquad $\n",
    "$ \\rho_{Y|X} = \\left[\\begin{matrix}1.0 & 0.215 & 0.006\\\\0.215 & 1.0 & 0.02\\\\0.006 & 0.02 & 1.0\\end{matrix}\\right] $"
   ]
  },
  {
   "cell_type": "markdown",
   "id": "9d018a77-fa03-48ab-8ebc-66e6e6a08f6f",
   "metadata": {},
   "source": [
    "## 第B小題"
   ]
  },
  {
   "cell_type": "code",
   "execution_count": 9,
   "id": "c9f01de1-c357-4458-aba4-471ac9514cd8",
   "metadata": {},
   "outputs": [],
   "source": [
    "# Coordinates of 5 stations (A-B-C-D-O)\n",
    "coord = np.array([[20,10], [25,50], [-80,30], [-20,-60], [0,0]])\n",
    "# Distance Matrix of 5 stations (A-B-C-D-O)\n",
    "dm = distance_matrix(coord, coord)\n",
    "# Covariance Matrix\n",
    "cov = corr(dm) * sigma**2"
   ]
  },
  {
   "cell_type": "markdown",
   "id": "0b2175f2-4eb4-45ee-8115-55495930d0cf",
   "metadata": {},
   "source": [
    "$ X=\\left[\\begin{matrix} A \\\\ B \\\\ C \\\\ D \\end{matrix}\\right] \\qquad Y=\\left[\\begin{matrix} O \\end{matrix}\\right] \\qquad $\n",
    "$ \\Sigma = \\left[\\begin{matrix} \\Sigma_{XX} & \\Sigma_{XY} \\\\ \\Sigma_{YX} & \\Sigma_{YY} \\end{matrix}\\right] = \\left[\\begin{matrix}9.0 & 2.348 & 0.301 & 0.613 & 4.271\\\\2.348 & 9.0 & 0.255 & 0.171 & 1.396\\\\0.301 & 0.255 & 9.0 & 0.245 & 0.522\\\\0.613 & 0.171 & 0.245 & 9.0 & 1.093\\\\4.271 & 1.396 & 0.522 & 1.093 & 9.0\\end{matrix}\\right] $\n",
    "\n",
    "$ \\hat{T_O}-\\mu = \\Sigma_{i} w_i(T_{i}-\\mu) $\n",
    "\n",
    "$ m_{Y|X}-m_{Y} = \\Sigma_{YX}\\Sigma^{-1}_{XX}(x-m_{X}) $\n",
    "\n",
    "$ \\Rightarrow w_i = \\Sigma_{YX}\\Sigma^{-1}_{XX} $"
   ]
  },
  {
   "cell_type": "code",
   "execution_count": 10,
   "id": "a0a3e549-e8d4-4c6f-8b57-b7df057e5fbf",
   "metadata": {},
   "outputs": [],
   "source": [
    "weight = cov[4,:4]@np.linalg.inv(cov[:4,:4])"
   ]
  },
  {
   "cell_type": "markdown",
   "id": "f5ffa1d5-7445-452b-b9d9-da98ba662f50",
   "metadata": {},
   "source": [
    "$ w_i = \\displaystyle \\left[\\begin{matrix}0.4587\\\\0.0327\\\\0.0393\\\\0.0886\\end{matrix}\\right] $\n"
   ]
  }
 ],
 "metadata": {
  "kernelspec": {
   "display_name": "Python 3 (ipykernel)",
   "language": "python",
   "name": "python3"
  },
  "language_info": {
   "codemirror_mode": {
    "name": "ipython",
    "version": 3
   },
   "file_extension": ".py",
   "mimetype": "text/x-python",
   "name": "python",
   "nbconvert_exporter": "python",
   "pygments_lexer": "ipython3",
   "version": "3.7.11"
  }
 },
 "nbformat": 4,
 "nbformat_minor": 5
}
