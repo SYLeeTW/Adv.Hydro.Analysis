{
 "cells": [
  {
   "cell_type": "code",
   "execution_count": 1,
   "id": "a151ea45-4ac4-4bf0-b818-8ea1a9e86fd8",
   "metadata": {
    "tags": []
   },
   "outputs": [],
   "source": [
    "import numpy as np\n",
    "import pandas as pd\n",
    "import scipy.stats as ss\n",
    "from scipy.optimize import differential_evolution as DiffEvo\n",
    "from sympy import *\n",
    "import matplotlib.pyplot as plt\n",
    "plt.rcParams['mathtext.fontset'] = 'cm'"
   ]
  },
  {
   "cell_type": "markdown",
   "id": "cfd2485d-185d-4cfc-bc15-7d2cee98a52e",
   "metadata": {},
   "source": [
    "# 第一題"
   ]
  },
  {
   "cell_type": "code",
   "execution_count": 2,
   "id": "4a17fa5b-53fc-47db-9e98-0fff695d51d7",
   "metadata": {},
   "outputs": [],
   "source": [
    "TRC = pd.read_fwf('TRC.txt', names=['Temp', 'Rainfall', 'Customer'])\n",
    "x = TRC.to_numpy().T[:2]\n",
    "y = TRC.to_numpy().T[2]"
   ]
  },
  {
   "cell_type": "code",
   "execution_count": 3,
   "id": "9773a5d7-3b20-4ab3-84f8-5577c3a6563b",
   "metadata": {},
   "outputs": [],
   "source": [
    "def coefficient(x, y):\n",
    "    n = x.shape[1]\n",
    "    mx = x.mean(axis=1, keepdims=True)\n",
    "    my = y.mean()\n",
    "    Matrix = np.cov(x) * n\n",
    "    Vector = (x-mx) @ (y-my)\n",
    "    coeff  = np.linalg.inv(Matrix) @ Vector\n",
    "    beta0  = my - mx.flatten() @ coeff\n",
    "    coeff  = np.concatenate((beta0, coeff), axis=None)\n",
    "    return coeff"
   ]
  },
  {
   "cell_type": "markdown",
   "id": "3f579747-5656-47db-a90a-d59021a654f8",
   "metadata": {
    "tags": []
   },
   "source": [
    "## 第B小題"
   ]
  },
  {
   "cell_type": "markdown",
   "id": "c3faad8e-3dcf-4b9b-85d8-8cebf4772bca",
   "metadata": {},
   "source": [
    "$ \\ln(\\hat{C}) = \\beta_0 + \\beta_1(\\alpha-T) + \\beta_2\\ln(R+\\gamma) = (\\beta_0+\\alpha\\beta_1) - \\beta_1 T + \\beta_2\\ln(R+\\gamma) = \\beta^\\prime_0 + \\beta^\\prime_1 T + \\beta_2\\ln(R+\\gamma) $"
   ]
  },
  {
   "cell_type": "code",
   "execution_count": 4,
   "id": "a6921121-21da-4868-bfa8-b1e2133f64a9",
   "metadata": {},
   "outputs": [],
   "source": [
    "def ObjFunc(p, x, y):\n",
    "    x1 = x[0]\n",
    "    x2 = np.log(x[1] + p)\n",
    "    y1 = np.log(y)\n",
    "    beta = coefficient(np.array([x1, x2]), y1)\n",
    "    y_hat = beta[0] + beta[1]*x1 + beta[2]*x2\n",
    "    SSErr = np.sum((y_hat-y1)**2)\n",
    "    return SSErr"
   ]
  },
  {
   "cell_type": "code",
   "execution_count": 5,
   "id": "e7456cb2-40ef-4086-8aa3-790a30b75a40",
   "metadata": {},
   "outputs": [],
   "source": [
    "bnds = ((1e-5, 10),) # LL & UL of gamma\n",
    "opt = DiffEvo(ObjFunc, args=(x, y), bounds=bnds)\n",
    "gamma = opt.x\n",
    "sserr = opt.fun\n",
    "x1 = x[0]\n",
    "x2 = np.log(x[1] + gamma)\n",
    "y1 = np.log(y)\n",
    "beta = coefficient(np.array([x1, x2]), y1)\n",
    "y_hat = beta[0] + beta[1]*x1 + beta[2]*x2"
   ]
  },
  {
   "cell_type": "markdown",
   "id": "5c5892b6-8475-40c2-98cc-af15bcebb367",
   "metadata": {},
   "source": [
    "$ \\gamma = 1.204 \\qquad \\beta = \\left[\\begin{matrix} \\beta^\\prime_0 \\\\ \\beta^\\prime_1 \\\\ \\beta_2 \\end{matrix}\\right] = \\left[\\begin{matrix}5.651\\\\0.075\\\\-0.926\\end{matrix}\\right] $\n",
    "\n",
    "$ \\ln(\\hat{C}) = 5.651 + 0.075 T - 0.926\\ln(R+1.204) $\n",
    "\n",
    "$ Sum \\ of \\ Squared \\ Errors = 267.5194 $"
   ]
  },
  {
   "cell_type": "markdown",
   "id": "c525b0f6-9a6a-48b7-9e7e-b5c54053907f",
   "metadata": {},
   "source": [
    "## 第C小題"
   ]
  },
  {
   "cell_type": "markdown",
   "id": "ea4afbf7-1778-4aa0-bf72-1efa944cbf22",
   "metadata": {
    "tags": []
   },
   "source": [
    "$ \\ln(\\hat{C}) = \\beta_0 + \\beta_1\\ln(T-\\delta) + \\beta_2\\ln(R+\\phi) \\qquad \\delta<t_{min} \\quad \\phi>0 $"
   ]
  },
  {
   "cell_type": "code",
   "execution_count": 6,
   "id": "3ff4191b-e01d-4569-8997-a9b90ed59a92",
   "metadata": {},
   "outputs": [],
   "source": [
    "def ObjFunc(p, x, y):\n",
    "    x1 = np.log(x[0] - p[0])\n",
    "    x2 = np.log(x[1] + p[1])\n",
    "    y1 = np.log(y)\n",
    "    beta = coefficient(np.array([x1, x2]), y1)\n",
    "    y_hat = beta[0] + beta[1]*x1 + beta[2]*x2\n",
    "    SSErr = np.sum((y_hat-y1)**2)\n",
    "    return SSErr"
   ]
  },
  {
   "cell_type": "code",
   "execution_count": 7,
   "id": "3656677e-1950-4134-815b-2e39e04f86c3",
   "metadata": {
    "tags": []
   },
   "outputs": [],
   "source": [
    "bnds = ((-1e2, x[0].min()), # LL & UL of delta\n",
    "        (1e-5, 100))        # LL & UL of phi\n",
    "opt = DiffEvo(ObjFunc, args=(x, y), bounds=bnds)\n",
    "delta = opt.x[0]\n",
    "phi   = opt.x[1]\n",
    "sserr = opt.fun\n",
    "x1 = np.log(x[0] - delta)\n",
    "x2 = np.log(x[1] + phi)\n",
    "y1 = np.log(y)\n",
    "beta = coefficient(np.array([x1, x2]), y1)\n",
    "y_hat = beta[0] + beta[1]*x1 + beta[2]*x2"
   ]
  },
  {
   "cell_type": "markdown",
   "id": "137cab02-de6b-46ac-b4aa-a3e0b391240d",
   "metadata": {
    "tags": []
   },
   "source": [
    "$ \\delta = -7.393 \\qquad \\phi=1.206 \\qquad \\beta = \\left[\\begin{matrix} \\beta_0 \\\\ \\beta_1 \\\\ \\beta_2 \\end{matrix}\\right] = \\left[\\begin{matrix}-2.148\\\\2.785\\\\-0.926\\end{matrix}\\right] $\n",
    "\n",
    "$ \\ln(\\hat{C}) = -2.148 + 2.785\\ln(T+7.390) -0.926\\ln(R+1.206) $\n",
    "\n",
    "$ Sum \\ of \\ Squared \\ Errors = 265.5375 $"
   ]
  },
  {
   "cell_type": "markdown",
   "id": "a6e93408-e643-4e6b-9b5a-bc3ef7f6ff5c",
   "metadata": {},
   "source": [
    "## 第D小題"
   ]
  },
  {
   "cell_type": "code",
   "execution_count": 8,
   "id": "c8d8dc73-5edd-4596-b6de-ef48279e24dd",
   "metadata": {},
   "outputs": [],
   "source": [
    "Temp = TRC['Temp'].to_numpy()\n",
    "\n",
    "def MinChi2(p, t):\n",
    "    X = np.log(-t + p)\n",
    "    n = X.shape[0]\n",
    "    mean = X.mean()\n",
    "    std  = X.std(ddof=1)\n",
    "    equiprob = ss.norm.ppf(np.linspace(0, 1, 21), mean, std)\n",
    "    hist, bin_edges = np.histogram(X, bins=equiprob)\n",
    "    expected = np.ones(20) * n/20\n",
    "    statistic, pvalue = ss.chisquare(hist, expected, ddof=2)\n",
    "    return statistic\n",
    "\n",
    "opt = DiffEvo(MinChi2, args=([Temp]), bounds=((Temp.max(),1e4),))\n",
    "tau = opt.x[0]\n",
    "chi = opt.fun \n",
    "X = np.log(-Temp + tau)\n",
    "mean = X.mean()\n",
    "std  = X.std(ddof=1)"
   ]
  },
  {
   "cell_type": "markdown",
   "id": "7cfc1aba-d9d1-424b-ad13-98b986eb4093",
   "metadata": {},
   "source": [
    "$ \\tau = 42.1 \\qquad Min.\\ \\chi^2 = 13.84  $\n",
    "\n",
    "$ \\mu_x = 1.99 \\qquad \\sigma_x = 0.49 $"
   ]
  },
  {
   "cell_type": "markdown",
   "id": "961a7372-2453-4d0e-a023-5694551c01ff",
   "metadata": {},
   "source": [
    "## 第E小題"
   ]
  },
  {
   "cell_type": "code",
   "execution_count": 9,
   "id": "ac384918-1c75-472e-b81e-affc53442fbe",
   "metadata": {},
   "outputs": [],
   "source": [
    "Rain = TRC['Rainfall'].to_numpy()\n",
    "RainNonZero = Rain[Rain.nonzero()]\n",
    "\n",
    "def MinSkew(p, r):\n",
    "    Y = (r**p - 1) / p\n",
    "    skew = np.abs(ss.skew(Y))\n",
    "    return skew\n",
    "\n",
    "opt = DiffEvo(MinSkew, args=([RainNonZero]), bounds=((-5,5),))\n",
    "lmbda = opt.x[0]\n",
    "skew  = opt.fun \n",
    "Y = (RainNonZero**lmbda - 1) / lmbda\n",
    "mean = Y.mean()\n",
    "std  = Y.std(ddof=1)"
   ]
  },
  {
   "cell_type": "markdown",
   "id": "1067da57-0953-49a4-8b9b-d8aac840ae98",
   "metadata": {},
   "source": [
    "$ \\lambda = 0.2768 \\qquad Min.\\ |C_s| = 1.4 \\times 10^{-15}  $\n",
    "\n",
    "$ \\mu_x = 6.05 \\qquad \\sigma_x = 2.90 $"
   ]
  },
  {
   "cell_type": "markdown",
   "id": "22ab1b94-1c1e-4a4a-aac5-9f00e27c14ce",
   "metadata": {},
   "source": [
    "## 第F小題"
   ]
  },
  {
   "cell_type": "code",
   "execution_count": 10,
   "id": "2ebf0c08-0b6a-4905-84d6-85a4538665cc",
   "metadata": {},
   "outputs": [],
   "source": [
    "X = np.log(-Temp + tau)\n",
    "Y = [(r**lmbda-1)/lmbda if r>0 else r for r in Rain]\n",
    "rho_xy = np.corrcoef(X, Y)[0, 1]"
   ]
  },
  {
   "cell_type": "markdown",
   "id": "2fc683c2-8897-415c-a41d-d2856d4bcd78",
   "metadata": {},
   "source": [
    "$ \\rho_{xy} = -0.00852 $"
   ]
  },
  {
   "cell_type": "markdown",
   "id": "efad1f2b-10c5-4301-a784-1e968943b8dd",
   "metadata": {},
   "source": [
    "## 第G小題"
   ]
  },
  {
   "cell_type": "code",
   "execution_count": null,
   "id": "aa5facc4-c0ce-40e3-a978-b58dc262f09c",
   "metadata": {},
   "outputs": [],
   "source": []
  },
  {
   "cell_type": "markdown",
   "id": "36eb7a12-ea67-4489-9518-18ea650cb04c",
   "metadata": {},
   "source": [
    "## 第H小題"
   ]
  },
  {
   "cell_type": "code",
   "execution_count": null,
   "id": "771dd86f-810f-49e6-ac84-aea9df5599a4",
   "metadata": {},
   "outputs": [],
   "source": []
  }
 ],
 "metadata": {
  "kernelspec": {
   "display_name": "Python 3 (ipykernel)",
   "language": "python",
   "name": "python3"
  },
  "language_info": {
   "codemirror_mode": {
    "name": "ipython",
    "version": 3
   },
   "file_extension": ".py",
   "mimetype": "text/x-python",
   "name": "python",
   "nbconvert_exporter": "python",
   "pygments_lexer": "ipython3",
   "version": "3.8.11"
  }
 },
 "nbformat": 4,
 "nbformat_minor": 5
}
