{
 "cells": [
  {
   "cell_type": "code",
   "execution_count": 1,
   "id": "7a37c37c-88d0-486c-8fc3-8687ea86cac5",
   "metadata": {},
   "outputs": [],
   "source": [
    "import numpy as np\n",
    "import pandas as pd\n",
    "import scipy.stats as ss"
   ]
  },
  {
   "cell_type": "code",
   "execution_count": 2,
   "id": "308000a9-e785-4a69-95b1-79862d0c77a9",
   "metadata": {},
   "outputs": [],
   "source": [
    "import matplotlib.pyplot as plt\n",
    "plt.rcParams['mathtext.fontset'] = 'cm'\n",
    "plt.rcParams['font.sans-serif'] = 'Microsoft JhengHei'\n",
    "plt.rcParams['axes.unicode_minus'] = False\n",
    "plt.rcParams['axes.titlesize'] = 18\n",
    "plt.rcParams['axes.labelsize'] = 16\n",
    "plt.rcParams['xtick.labelsize'] = 12\n",
    "plt.rcParams['ytick.labelsize'] = 12\n",
    "plt.rcParams['legend.fontsize'] = 14"
   ]
  },
  {
   "cell_type": "markdown",
   "id": "bc37ea1d-3005-4a6e-84d7-73481516a549",
   "metadata": {},
   "source": [
    "# 第二題"
   ]
  },
  {
   "cell_type": "markdown",
   "id": "e50585b8-cde1-4ff3-a384-0ad6750424f1",
   "metadata": {},
   "source": [
    "## 資料前處理"
   ]
  },
  {
   "cell_type": "code",
   "execution_count": 3,
   "id": "2b699d90-7abe-4994-bb50-9fd93a2dd308",
   "metadata": {},
   "outputs": [
    {
     "data": {
      "text/html": [
       "<div>\n",
       "<style scoped>\n",
       "    .dataframe tbody tr th:only-of-type {\n",
       "        vertical-align: middle;\n",
       "    }\n",
       "\n",
       "    .dataframe tbody tr th {\n",
       "        vertical-align: top;\n",
       "    }\n",
       "\n",
       "    .dataframe thead th {\n",
       "        text-align: right;\n",
       "    }\n",
       "</style>\n",
       "<table border=\"1\" class=\"dataframe\">\n",
       "  <thead>\n",
       "    <tr style=\"text-align: right;\">\n",
       "      <th></th>\n",
       "      <th>鞍部</th>\n",
       "      <th>臺北</th>\n",
       "      <th>竹子湖</th>\n",
       "      <th>基隆</th>\n",
       "      <th>花蓮</th>\n",
       "      <th>蘇澳</th>\n",
       "      <th>宜蘭</th>\n",
       "      <th>臺南</th>\n",
       "      <th>高雄</th>\n",
       "      <th>嘉義</th>\n",
       "      <th>臺中</th>\n",
       "      <th>阿里山</th>\n",
       "      <th>大武</th>\n",
       "      <th>新竹</th>\n",
       "      <th>恆春</th>\n",
       "      <th>成功</th>\n",
       "      <th>日月潭</th>\n",
       "      <th>臺東</th>\n",
       "      <th>梧棲</th>\n",
       "    </tr>\n",
       "    <tr>\n",
       "      <th>Date</th>\n",
       "      <th></th>\n",
       "      <th></th>\n",
       "      <th></th>\n",
       "      <th></th>\n",
       "      <th></th>\n",
       "      <th></th>\n",
       "      <th></th>\n",
       "      <th></th>\n",
       "      <th></th>\n",
       "      <th></th>\n",
       "      <th></th>\n",
       "      <th></th>\n",
       "      <th></th>\n",
       "      <th></th>\n",
       "      <th></th>\n",
       "      <th></th>\n",
       "      <th></th>\n",
       "      <th></th>\n",
       "      <th></th>\n",
       "    </tr>\n",
       "  </thead>\n",
       "  <tbody>\n",
       "    <tr>\n",
       "      <th>1995-03-02</th>\n",
       "      <td>11.6</td>\n",
       "      <td>15.7</td>\n",
       "      <td>12.9</td>\n",
       "      <td>16.3</td>\n",
       "      <td>15.9</td>\n",
       "      <td>16.5</td>\n",
       "      <td>16.1</td>\n",
       "      <td>16.6</td>\n",
       "      <td>18.3</td>\n",
       "      <td>15.1</td>\n",
       "      <td>15.2</td>\n",
       "      <td>7.1</td>\n",
       "      <td>19.2</td>\n",
       "      <td>15.4</td>\n",
       "      <td>21.7</td>\n",
       "      <td>16.9</td>\n",
       "      <td>12.8</td>\n",
       "      <td>17.1</td>\n",
       "      <td>15.0</td>\n",
       "    </tr>\n",
       "    <tr>\n",
       "      <th>1995-03-24</th>\n",
       "      <td>17.6</td>\n",
       "      <td>21.3</td>\n",
       "      <td>18.9</td>\n",
       "      <td>20.4</td>\n",
       "      <td>24.4</td>\n",
       "      <td>22.3</td>\n",
       "      <td>22.4</td>\n",
       "      <td>24.3</td>\n",
       "      <td>24.6</td>\n",
       "      <td>23.6</td>\n",
       "      <td>23.6</td>\n",
       "      <td>12.6</td>\n",
       "      <td>25.6</td>\n",
       "      <td>21.0</td>\n",
       "      <td>25.1</td>\n",
       "      <td>25.1</td>\n",
       "      <td>19.3</td>\n",
       "      <td>25.1</td>\n",
       "      <td>22.5</td>\n",
       "    </tr>\n",
       "    <tr>\n",
       "      <th>1995-04-21</th>\n",
       "      <td>19.3</td>\n",
       "      <td>24.7</td>\n",
       "      <td>20.8</td>\n",
       "      <td>23.7</td>\n",
       "      <td>25.4</td>\n",
       "      <td>26.0</td>\n",
       "      <td>24.6</td>\n",
       "      <td>27.1</td>\n",
       "      <td>27.4</td>\n",
       "      <td>25.6</td>\n",
       "      <td>25.2</td>\n",
       "      <td>14.0</td>\n",
       "      <td>26.7</td>\n",
       "      <td>24.0</td>\n",
       "      <td>27.6</td>\n",
       "      <td>26.0</td>\n",
       "      <td>21.1</td>\n",
       "      <td>26.2</td>\n",
       "      <td>24.3</td>\n",
       "    </tr>\n",
       "    <tr>\n",
       "      <th>1995-04-22</th>\n",
       "      <td>21.6</td>\n",
       "      <td>26.5</td>\n",
       "      <td>22.7</td>\n",
       "      <td>25.0</td>\n",
       "      <td>26.1</td>\n",
       "      <td>26.5</td>\n",
       "      <td>26.1</td>\n",
       "      <td>27.9</td>\n",
       "      <td>27.7</td>\n",
       "      <td>26.5</td>\n",
       "      <td>27.1</td>\n",
       "      <td>16.1</td>\n",
       "      <td>27.0</td>\n",
       "      <td>25.9</td>\n",
       "      <td>27.6</td>\n",
       "      <td>26.6</td>\n",
       "      <td>22.3</td>\n",
       "      <td>26.6</td>\n",
       "      <td>27.4</td>\n",
       "    </tr>\n",
       "    <tr>\n",
       "      <th>1995-04-30</th>\n",
       "      <td>21.5</td>\n",
       "      <td>26.9</td>\n",
       "      <td>22.9</td>\n",
       "      <td>25.6</td>\n",
       "      <td>27.3</td>\n",
       "      <td>27.3</td>\n",
       "      <td>26.6</td>\n",
       "      <td>28.5</td>\n",
       "      <td>28.2</td>\n",
       "      <td>27.5</td>\n",
       "      <td>27.5</td>\n",
       "      <td>13.5</td>\n",
       "      <td>27.2</td>\n",
       "      <td>26.1</td>\n",
       "      <td>28.3</td>\n",
       "      <td>27.5</td>\n",
       "      <td>22.4</td>\n",
       "      <td>27.4</td>\n",
       "      <td>27.7</td>\n",
       "    </tr>\n",
       "  </tbody>\n",
       "</table>\n",
       "</div>"
      ],
      "text/plain": [
       "              鞍部    臺北   竹子湖    基隆    花蓮    蘇澳    宜蘭    臺南    高雄    嘉義    臺中  \\\n",
       "Date                                                                           \n",
       "1995-03-02  11.6  15.7  12.9  16.3  15.9  16.5  16.1  16.6  18.3  15.1  15.2   \n",
       "1995-03-24  17.6  21.3  18.9  20.4  24.4  22.3  22.4  24.3  24.6  23.6  23.6   \n",
       "1995-04-21  19.3  24.7  20.8  23.7  25.4  26.0  24.6  27.1  27.4  25.6  25.2   \n",
       "1995-04-22  21.6  26.5  22.7  25.0  26.1  26.5  26.1  27.9  27.7  26.5  27.1   \n",
       "1995-04-30  21.5  26.9  22.9  25.6  27.3  27.3  26.6  28.5  28.2  27.5  27.5   \n",
       "\n",
       "             阿里山    大武    新竹    恆春    成功   日月潭    臺東    梧棲  \n",
       "Date                                                        \n",
       "1995-03-02   7.1  19.2  15.4  21.7  16.9  12.8  17.1  15.0  \n",
       "1995-03-24  12.6  25.6  21.0  25.1  25.1  19.3  25.1  22.5  \n",
       "1995-04-21  14.0  26.7  24.0  27.6  26.0  21.1  26.2  24.3  \n",
       "1995-04-22  16.1  27.0  25.9  27.6  26.6  22.3  26.6  27.4  \n",
       "1995-04-30  13.5  27.2  26.1  28.3  27.5  22.4  27.4  27.7  "
      ]
     },
     "execution_count": 3,
     "metadata": {},
     "output_type": "execute_result"
    }
   ],
   "source": [
    "colname1 = names=['ID', 'Lon', 'Lat', 'EL', 'Name']\n",
    "stn = pd.read_fwf('StnList.txt', names=colname1, encoding='Big5')\n",
    "colname2 = ['Date']\n",
    "colname2.extend(stn['Name'].to_list())\n",
    "Temp = pd.read_fwf('19StnTmp.txt', names=colname2, index_col='Date')\n",
    "Temp.index = pd.to_datetime(Temp.index.astype('str'), format='%Y%m%d')\n",
    "Temp.head()"
   ]
  },
  {
   "cell_type": "markdown",
   "id": "f929c9fb-a971-40c1-a930-0f70f5cccf36",
   "metadata": {},
   "source": [
    "## 第A小題"
   ]
  },
  {
   "cell_type": "code",
   "execution_count": 4,
   "id": "6facd2d3-0a55-41b5-8ccd-76155aa0d4c8",
   "metadata": {},
   "outputs": [],
   "source": [
    "# Temperature anomaly series of each station\n",
    "stn0Mean = Temp.sub(Temp.mean())\n",
    "# Mean temperature anomaly series of 19 stns without Feb. 29\n",
    "Feb29idx = stn0Mean[(stn0Mean.index.month==2)&(stn0Mean.index.day==29)].index\n",
    "tmpMean  = stn0Mean.mean(axis=1).drop(labels=Feb29idx)\n",
    "JulDay = tmpMean.index.dayofyear.values"
   ]
  },
  {
   "cell_type": "code",
   "execution_count": 20,
   "id": "482d6415-cd11-495d-9559-12d339f37b60",
   "metadata": {},
   "outputs": [],
   "source": [
    "def coefficient(x, y):\n",
    "    n = x.shape[1]\n",
    "    mx = x.mean(axis=1, keepdims=True)\n",
    "    my = y.mean()\n",
    "    Matrix = np.cov(x) * n\n",
    "    Vector = (x-mx) @ (y-my)\n",
    "    coeff  = np.linalg.inv(Matrix) @ Vector\n",
    "    beta0  = my - mx.flatten() @ coeff\n",
    "    coeff  = np.concatenate((beta0, coeff), axis=None)\n",
    "    return coeff\n",
    "\n",
    "def SSErr(x, y, b):\n",
    "    n = x.shape[0]\n",
    "    y_hat = b[0]\n",
    "    for i in range(1,n+1):\n",
    "        y_hat = y_hat + b[i]*x[i-1]\n",
    "    return np.sum((y_hat-y)**2)"
   ]
  },
  {
   "cell_type": "code",
   "execution_count": 24,
   "id": "66dc0628-54b6-4ef7-aa9d-dcb4b5c186ad",
   "metadata": {},
   "outputs": [
    {
     "data": {
      "text/plain": [
       "4639.786668288079"
      ]
     },
     "execution_count": 24,
     "metadata": {},
     "output_type": "execute_result"
    }
   ],
   "source": [
    "x1 = np.array([np.sin(2*np.pi*JulDay/365),np.cos(2*np.pi*JulDay/365)])\n",
    "y = tmpMean.values\n",
    "beta = coefficient(x1, y)\n",
    "SSErr(x1, y, beta)"
   ]
  },
  {
   "cell_type": "code",
   "execution_count": 25,
   "id": "18451e40-7cfd-4617-b4da-67309d493e62",
   "metadata": {},
   "outputs": [
    {
     "data": {
      "text/plain": [
       "4488.664775362229"
      ]
     },
     "execution_count": 25,
     "metadata": {},
     "output_type": "execute_result"
    }
   ],
   "source": [
    "x2 = np.array([np.sin(2*np.pi*JulDay/365),np.cos(2*np.pi*JulDay/365),\n",
    "               np.sin(4*np.pi*JulDay/365),np.cos(4*np.pi*JulDay/365)])\n",
    "beta = coefficient(x2, y)\n",
    "SSErr(x2, y, beta)"
   ]
  },
  {
   "cell_type": "code",
   "execution_count": 26,
   "id": "9087192e-038b-461b-85e0-31aa4f6c0096",
   "metadata": {},
   "outputs": [
    {
     "data": {
      "text/plain": [
       "(2536,)"
      ]
     },
     "execution_count": 26,
     "metadata": {},
     "output_type": "execute_result"
    }
   ],
   "source": [
    "y.shape"
   ]
  },
  {
   "cell_type": "code",
   "execution_count": 29,
   "id": "528b500d-3f27-4991-b7cd-e12084747c6e",
   "metadata": {},
   "outputs": [
    {
     "data": {
      "text/plain": [
       "42.60615685701998"
      ]
     },
     "execution_count": 29,
     "metadata": {},
     "output_type": "execute_result"
    }
   ],
   "source": [
    "(4639.786668288079 - 4488.664775362229)*(2536-5)/(2*4488.664775362229)"
   ]
  },
  {
   "cell_type": "code",
   "execution_count": 32,
   "id": "6966042b-e883-4ed1-b19a-28a285327d50",
   "metadata": {},
   "outputs": [
    {
     "data": {
      "text/plain": [
       "19.495330648145984"
      ]
     },
     "execution_count": 32,
     "metadata": {},
     "output_type": "execute_result"
    }
   ],
   "source": [
    "ss.f.ppf(0.95, 2531, 2)"
   ]
  },
  {
   "cell_type": "code",
   "execution_count": null,
   "id": "2f7294e7-ad19-4660-9c25-083d83a3ff18",
   "metadata": {},
   "outputs": [],
   "source": []
  },
  {
   "cell_type": "code",
   "execution_count": null,
   "id": "4ff22832-de14-4751-a63f-feb057b82d75",
   "metadata": {},
   "outputs": [],
   "source": []
  }
 ],
 "metadata": {
  "kernelspec": {
   "display_name": "Python 3 (ipykernel)",
   "language": "python",
   "name": "python3"
  },
  "language_info": {
   "codemirror_mode": {
    "name": "ipython",
    "version": 3
   },
   "file_extension": ".py",
   "mimetype": "text/x-python",
   "name": "python",
   "nbconvert_exporter": "python",
   "pygments_lexer": "ipython3",
   "version": "3.7.11"
  }
 },
 "nbformat": 4,
 "nbformat_minor": 5
}
